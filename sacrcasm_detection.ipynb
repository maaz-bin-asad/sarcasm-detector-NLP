{
  "nbformat": 4,
  "nbformat_minor": 0,
  "metadata": {
    "colab": {
      "name": "sacrcasm_detection.ipynb",
      "provenance": []
    },
    "kernelspec": {
      "name": "python3",
      "display_name": "Python 3"
    }
  },
  "cells": [
    {
      "cell_type": "markdown",
      "metadata": {
        "id": "ruj5Rnn4CzKs",
        "colab_type": "text"
      },
      "source": [
        "Importing necessary libraries"
      ]
    },
    {
      "cell_type": "code",
      "metadata": {
        "id": "WFmqo1-zCrhy",
        "colab_type": "code",
        "colab": {}
      },
      "source": [
        "import json\n",
        "import tensorflow as tf\n",
        "from tensorflow.keras.preprocessing.text import Tokenizer\n",
        "from tensorflow.keras.preprocessing.sequence import pad_sequences"
      ],
      "execution_count": 1,
      "outputs": []
    },
    {
      "cell_type": "markdown",
      "metadata": {
        "id": "-CJ1NUagC_aX",
        "colab_type": "text"
      },
      "source": [
        "Setting the hyperparameters"
      ]
    },
    {
      "cell_type": "code",
      "metadata": {
        "id": "YYw8GenUDErt",
        "colab_type": "code",
        "colab": {}
      },
      "source": [
        "vocab_size=10000  #number of words as features\n",
        "embedding_dim=16  #number of features representing a word\n",
        "max_length=32  #maximum length of sequence\n",
        "trunc_type='post'  #from where to remove the sentence if it is greater than max_length\n",
        "padding_type='post'  #where to pad values in case of shorter sequences than longest\n",
        "oov_token=\"<unique>\"  #this will be assign to the words not present in corpus\n",
        "training_size=20000  #length of our training set. Rest is taken as test set"
      ],
      "execution_count": 10,
      "outputs": []
    },
    {
      "cell_type": "markdown",
      "metadata": {
        "id": "FyYKv-PfDqy6",
        "colab_type": "text"
      },
      "source": [
        "Importing the json dataset"
      ]
    },
    {
      "cell_type": "code",
      "metadata": {
        "id": "CfY5NaABDgxy",
        "colab_type": "code",
        "colab": {
          "base_uri": "https://localhost:8080/",
          "height": 235
        },
        "outputId": "79fbf72e-fc5a-46fd-890a-cc8a1018f9ae"
      },
      "source": [
        "!wget --no-check-certificate \\\n",
        "    https://storage.googleapis.com/laurencemoroney-blog.appspot.com/sarcasm.json \\\n",
        "    -O /tmp/sarcasm.json"
      ],
      "execution_count": 3,
      "outputs": [
        {
          "output_type": "stream",
          "text": [
            "--2020-07-02 05:46:32--  https://storage.googleapis.com/laurencemoroney-blog.appspot.com/sarcasm.json\n",
            "Resolving storage.googleapis.com (storage.googleapis.com)... 172.217.212.128, 172.217.214.128, 108.177.111.128, ...\n",
            "Connecting to storage.googleapis.com (storage.googleapis.com)|172.217.212.128|:443... connected.\n",
            "HTTP request sent, awaiting response... 200 OK\n",
            "Length: 5643545 (5.4M) [application/json]\n",
            "Saving to: ‘/tmp/sarcasm.json’\n",
            "\n",
            "\r/tmp/sarcasm.json     0%[                    ]       0  --.-KB/s               \r/tmp/sarcasm.json   100%[===================>]   5.38M  --.-KB/s    in 0.08s   \n",
            "\n",
            "2020-07-02 05:46:33 (71.5 MB/s) - ‘/tmp/sarcasm.json’ saved [5643545/5643545]\n",
            "\n"
          ],
          "name": "stdout"
        }
      ]
    },
    {
      "cell_type": "markdown",
      "metadata": {
        "id": "TpSTY1vwD0cy",
        "colab_type": "text"
      },
      "source": [
        "Now that we have the dataset, it's time to read our data"
      ]
    },
    {
      "cell_type": "code",
      "metadata": {
        "id": "YpDoYm2iD_0H",
        "colab_type": "code",
        "colab": {}
      },
      "source": [
        "with open(\"/tmp/sarcasm.json\",\"r\") as f:\n",
        "    data=json.load(f)\n",
        "sentences=[]  #an empty list so that we can store our sentences later\n",
        "labels=[]  #a list to store labels \n",
        "for item in data:\n",
        "    sentences.append(item['headline'])\n",
        "    labels.append(item['is_sarcastic'])\n",
        "training_set=sentences[0:training_size]  #take 20000 data points as training set\n",
        "testing_set=sentences[training_size:]  #take remaining as test set\n",
        "training_labels=labels[0:training_size]\n",
        "test_labels=labels[training_size:]\n",
        "\n"
      ],
      "execution_count": 25,
      "outputs": []
    },
    {
      "cell_type": "markdown",
      "metadata": {
        "id": "d2LRFqWNEz-I",
        "colab_type": "text"
      },
      "source": [
        "Text preprocessing"
      ]
    },
    {
      "cell_type": "code",
      "metadata": {
        "id": "onUsCSKYFiAx",
        "colab_type": "code",
        "colab": {}
      },
      "source": [
        "tokenizer=Tokenizer(num_words=vocab_size,oov_token=oov_token)\n",
        "tokenizer.fit_on_texts(training_set)\n",
        "word_index=tokenizer.word_index\n",
        "training_sequences=tokenizer.texts_to_sequences(training_set)\n",
        "training_padded=pad_sequences(training_sequences,maxlen=max_length,\n",
        "                              padding=padding_type,truncating=trunc_type)\n",
        "\n",
        "testing_sequences=tokenizer.texts_to_sequences(testing_set)\n",
        "testing_padded=pad_sequences(testing_sequences,maxlen=max_length,\n",
        "                              padding=padding_type,truncating=trunc_type)\n"
      ],
      "execution_count": 22,
      "outputs": []
    },
    {
      "cell_type": "code",
      "metadata": {
        "id": "7dZoB7mEOfsv",
        "colab_type": "code",
        "colab": {}
      },
      "source": [
        "import numpy as np\n",
        "training_padded = np.array(training_padded)\n",
        "training_labels = np.array(training_labels)\n",
        "testing_padded = np.array(testing_padded)\n",
        "test_labels = np.array(test_labels)"
      ],
      "execution_count": 33,
      "outputs": []
    },
    {
      "cell_type": "markdown",
      "metadata": {
        "id": "9lJQzFt_HzqW",
        "colab_type": "text"
      },
      "source": [
        "Create out neural network"
      ]
    },
    {
      "cell_type": "code",
      "metadata": {
        "id": "gT2z8syzHzCW",
        "colab_type": "code",
        "colab": {}
      },
      "source": [
        "from tensorflow.keras import Sequential\n",
        "#create our model object of Sequential class for training \n",
        "model=Sequential([\n",
        "                  tf.keras.layers.Embedding(vocab_size,embedding_dim,input_length=max_length), #returns 2D array of feature vectors\n",
        "                  tf.keras.layers.GlobalAveragePooling1D(),  #flattening the 2D array\n",
        "                  tf.keras.layers.Dense(20,activation='relu'),  #use relu to avoid vanishing gradient descent \n",
        "                  tf.keras.layers.Dense(1,activation='sigmoid')  #outputs number b/w 0 and 1 denoting either class\n",
        "\n",
        "])"
      ],
      "execution_count": 28,
      "outputs": []
    },
    {
      "cell_type": "markdown",
      "metadata": {
        "id": "IJ9IY0vJJeB5",
        "colab_type": "text"
      },
      "source": [
        "Compile the model"
      ]
    },
    {
      "cell_type": "code",
      "metadata": {
        "id": "ZUovSLKQJdiM",
        "colab_type": "code",
        "colab": {
          "base_uri": "https://localhost:8080/",
          "height": 354
        },
        "outputId": "a2dbd619-77af-4105-e618-b14abbd9c519"
      },
      "source": [
        "model.compile(loss='binary_crossentropy',optimizer='adam',metrics=['accuracy'])\n",
        "print(model.summary())"
      ],
      "execution_count": 34,
      "outputs": [
        {
          "output_type": "stream",
          "text": [
            "Model: \"sequential_1\"\n",
            "_________________________________________________________________\n",
            "Layer (type)                 Output Shape              Param #   \n",
            "=================================================================\n",
            "embedding_1 (Embedding)      (None, 32, 16)            160000    \n",
            "_________________________________________________________________\n",
            "global_average_pooling1d_1 ( (None, 16)                0         \n",
            "_________________________________________________________________\n",
            "dense_2 (Dense)              (None, 20)                340       \n",
            "_________________________________________________________________\n",
            "dense_3 (Dense)              (None, 1)                 21        \n",
            "=================================================================\n",
            "Total params: 160,361\n",
            "Trainable params: 160,361\n",
            "Non-trainable params: 0\n",
            "_________________________________________________________________\n",
            "None\n"
          ],
          "name": "stdout"
        }
      ]
    },
    {
      "cell_type": "markdown",
      "metadata": {
        "id": "dfavSMCzJ5ec",
        "colab_type": "text"
      },
      "source": [
        "Training the model"
      ]
    },
    {
      "cell_type": "code",
      "metadata": {
        "id": "kNhrbtXFJuJ5",
        "colab_type": "code",
        "colab": {
          "base_uri": "https://localhost:8080/",
          "height": 811
        },
        "outputId": "56932bcc-34d5-4f49-e7bc-02251a3e24d3"
      },
      "source": [
        "import numpy as np\n",
        "history=model.fit(training_padded,training_labels,\n",
        "                  epochs=20,\n",
        "validation_data=(testing_padded,test_labels),verbose=2)"
      ],
      "execution_count": 35,
      "outputs": [
        {
          "output_type": "stream",
          "text": [
            "Epoch 1/20\n",
            "625/625 - 3s - loss: 0.5801 - accuracy: 0.6883 - val_loss: 0.4135 - val_accuracy: 0.8344\n",
            "Epoch 2/20\n",
            "625/625 - 3s - loss: 0.3268 - accuracy: 0.8718 - val_loss: 0.3473 - val_accuracy: 0.8553\n",
            "Epoch 3/20\n",
            "625/625 - 3s - loss: 0.2452 - accuracy: 0.9043 - val_loss: 0.3411 - val_accuracy: 0.8568\n",
            "Epoch 4/20\n",
            "625/625 - 3s - loss: 0.1992 - accuracy: 0.9255 - val_loss: 0.3548 - val_accuracy: 0.8554\n",
            "Epoch 5/20\n",
            "625/625 - 3s - loss: 0.1656 - accuracy: 0.9385 - val_loss: 0.3810 - val_accuracy: 0.8478\n",
            "Epoch 6/20\n",
            "625/625 - 3s - loss: 0.1416 - accuracy: 0.9487 - val_loss: 0.4060 - val_accuracy: 0.8487\n",
            "Epoch 7/20\n",
            "625/625 - 3s - loss: 0.1213 - accuracy: 0.9584 - val_loss: 0.4576 - val_accuracy: 0.8363\n",
            "Epoch 8/20\n",
            "625/625 - 2s - loss: 0.1063 - accuracy: 0.9644 - val_loss: 0.5047 - val_accuracy: 0.8320\n",
            "Epoch 9/20\n",
            "625/625 - 3s - loss: 0.0914 - accuracy: 0.9707 - val_loss: 0.5228 - val_accuracy: 0.8359\n",
            "Epoch 10/20\n",
            "625/625 - 2s - loss: 0.0801 - accuracy: 0.9740 - val_loss: 0.6239 - val_accuracy: 0.8235\n",
            "Epoch 11/20\n",
            "625/625 - 3s - loss: 0.0706 - accuracy: 0.9782 - val_loss: 0.6219 - val_accuracy: 0.8290\n",
            "Epoch 12/20\n",
            "625/625 - 2s - loss: 0.0623 - accuracy: 0.9808 - val_loss: 0.6692 - val_accuracy: 0.8267\n",
            "Epoch 13/20\n",
            "625/625 - 3s - loss: 0.0546 - accuracy: 0.9832 - val_loss: 0.7365 - val_accuracy: 0.8253\n",
            "Epoch 14/20\n",
            "625/625 - 2s - loss: 0.0476 - accuracy: 0.9862 - val_loss: 0.7723 - val_accuracy: 0.8247\n",
            "Epoch 15/20\n",
            "625/625 - 2s - loss: 0.0427 - accuracy: 0.9873 - val_loss: 0.8331 - val_accuracy: 0.8171\n",
            "Epoch 16/20\n",
            "625/625 - 2s - loss: 0.0367 - accuracy: 0.9895 - val_loss: 0.8941 - val_accuracy: 0.8193\n",
            "Epoch 17/20\n",
            "625/625 - 3s - loss: 0.0330 - accuracy: 0.9908 - val_loss: 0.9680 - val_accuracy: 0.8143\n",
            "Epoch 18/20\n",
            "625/625 - 3s - loss: 0.0289 - accuracy: 0.9922 - val_loss: 1.0129 - val_accuracy: 0.8158\n",
            "Epoch 19/20\n",
            "625/625 - 3s - loss: 0.0253 - accuracy: 0.9933 - val_loss: 1.0791 - val_accuracy: 0.8156\n",
            "Epoch 20/20\n",
            "625/625 - 3s - loss: 0.0225 - accuracy: 0.9944 - val_loss: 1.1968 - val_accuracy: 0.8097\n"
          ],
          "name": "stdout"
        }
      ]
    },
    {
      "cell_type": "markdown",
      "metadata": {
        "id": "834vBgAuO6GT",
        "colab_type": "text"
      },
      "source": [
        "It's time visualize the data"
      ]
    },
    {
      "cell_type": "code",
      "metadata": {
        "id": "p8WGxtUpO4_v",
        "colab_type": "code",
        "colab": {
          "base_uri": "https://localhost:8080/",
          "height": 541
        },
        "outputId": "608acfb3-07e5-4c8f-979c-24536f89878b"
      },
      "source": [
        "import matplotlib.pyplot as plt\n",
        "\n",
        "\n",
        "def plot_graphs(history, string):\n",
        "  plt.plot(history.history[string])\n",
        "  plt.plot(history.history['val_'+string])\n",
        "  plt.xlabel(\"Epochs\")\n",
        "  plt.ylabel(string)\n",
        "  plt.legend([string, 'val_'+string])\n",
        "  plt.show()\n",
        "  \n",
        "plot_graphs(history, \"accuracy\")\n",
        "plot_graphs(history, \"loss\")"
      ],
      "execution_count": 36,
      "outputs": [
        {
          "output_type": "display_data",
          "data": {
            "image/png": "[encoded data removed]",
            "text/plain": [
              "<Figure size 432x288 with 1 Axes>"
            ]
          },
          "metadata": {
            "tags": [],
            "needs_background": "light"
          }
        },
        {
          "output_type": "display_data",
          "data": {
            "image/png": "[encoded data removed]",
            "text/plain": [
              "<Figure size 432x288 with 1 Axes>"
            ]
          },
          "metadata": {
            "tags": [],
            "needs_background": "light"
          }
        }
      ]
    },
    {
      "cell_type": "code",
      "metadata": {
        "id": "r7kKcbg_PCcY",
        "colab_type": "code",
        "colab": {
          "base_uri": "https://localhost:8080/",
          "height": 77
        },
        "outputId": "038940bd-3e6d-4e76-b5c2-5517d3a59f6f"
      },
      "source": [
        "reverse_word_index = dict([(value, key) for (key, value) in word_index.items()])\n",
        "\n",
        "def decode_sentence(text):\n",
        "    return ' '.join([reverse_word_index.get(i, '?') for i in text])\n",
        "\n",
        "print(decode_sentence(training_padded[0]))\n",
        "print(training_set[2])\n",
        "print(labels[2])"
      ],
      "execution_count": 38,
      "outputs": [
        {
          "output_type": "stream",
          "text": [
            "former <unique> store clerk sues over secret 'black <unique> for minority shoppers ? ? ? ? ? ? ? ? ? ? ? ? ? ? ? ? ? ? ? ?\n",
            "mom starting to fear son's web series closest thing she will have to grandchild\n",
            "1\n"
          ],
          "name": "stdout"
        }
      ]
    },
    {
      "cell_type": "code",
      "metadata": {
        "id": "Luwjh3OkPQvF",
        "colab_type": "code",
        "colab": {
          "base_uri": "https://localhost:8080/",
          "height": 37
        },
        "outputId": "17386b5e-b6c1-4325-d5cc-a88053ae65c6"
      },
      "source": [
        "e = model.layers[0]\n",
        "weights = e.get_weights()[0]\n",
        "print(weights.shape) # shape: (vocab_size, embedding_dim)\n"
      ],
      "execution_count": 39,
      "outputs": [
        {
          "output_type": "stream",
          "text": [
            "(10000, 16)\n"
          ],
          "name": "stdout"
        }
      ]
    },
    {
      "cell_type": "markdown",
      "metadata": {
        "id": "I-jEEzM7PXcY",
        "colab_type": "text"
      },
      "source": [
        "Saving our embeddings to project it\n"
      ]
    },
    {
      "cell_type": "code",
      "metadata": {
        "id": "ABTZKzBWPcYZ",
        "colab_type": "code",
        "colab": {}
      },
      "source": [
        "import io\n",
        "\n",
        "out_v = io.open('vecs.tsv', 'w', encoding='utf-8')\n",
        "out_m = io.open('meta.tsv', 'w', encoding='utf-8')\n",
        "for word_num in range(1, vocab_size):\n",
        "  word = reverse_word_index[word_num]\n",
        "  embeddings = weights[word_num]\n",
        "  out_m.write(word + \"\\n\")\n",
        "  out_v.write('\\t'.join([str(x) for x in embeddings]) + \"\\n\")\n",
        "out_v.close()\n",
        "out_m.close()"
      ],
      "execution_count": 49,
      "outputs": []
    },
    {
      "cell_type": "code",
      "metadata": {
        "id": "9Mg8ufzCPhe9",
        "colab_type": "code",
        "colab": {
          "base_uri": "https://localhost:8080/",
          "height": 17
        },
        "outputId": "6f141d66-925c-4f9f-ba0c-b707b916e09e"
      },
      "source": [
        "try:\n",
        "  from google.colab import files\n",
        "except ImportError:\n",
        "  pass\n",
        "else:\n",
        "  files.download('vecs.tsv')\n",
        "  files.download('meta.tsv')"
      ],
      "execution_count": 48,
      "outputs": [
        {
          "output_type": "display_data",
          "data": {
            "application/javascript": [
              "\n",
              "    async function download(id, filename, size) {\n",
              "      if (!google.colab.kernel.accessAllowed) {\n",
              "        return;\n",
              "      }\n",
              "      const div = document.createElement('div');\n",
              "      const label = document.createElement('label');\n",
              "      label.textContent = `Downloading \"${filename}\": `;\n",
              "      div.appendChild(label);\n",
              "      const progress = document.createElement('progress');\n",
              "      progress.max = size;\n",
              "      div.appendChild(progress);\n",
              "      document.body.appendChild(div);\n",
              "\n",
              "      const buffers = [];\n",
              "      let downloaded = 0;\n",
              "\n",
              "      const channel = await google.colab.kernel.comms.open(id);\n",
              "      // Send a message to notify the kernel that we're ready.\n",
              "      channel.send({})\n",
              "\n",
              "      for await (const message of channel.messages) {\n",
              "        // Send a message to notify the kernel that we're ready.\n",
              "        channel.send({})\n",
              "        if (message.buffers) {\n",
              "          for (const buffer of message.buffers) {\n",
              "            buffers.push(buffer);\n",
              "            downloaded += buffer.byteLength;\n",
              "            progress.value = downloaded;\n",
              "          }\n",
              "        }\n",
              "      }\n",
              "      const blob = new Blob(buffers, {type: 'application/binary'});\n",
              "      const a = document.createElement('a');\n",
              "      a.href = window.URL.createObjectURL(blob);\n",
              "      a.download = filename;\n",
              "      div.appendChild(a);\n",
              "      a.click();\n",
              "      div.remove();\n",
              "    }\n",
              "  "
            ],
            "text/plain": [
              "<IPython.core.display.Javascript object>"
            ]
          },
          "metadata": {
            "tags": []
          }
        },
        {
          "output_type": "display_data",
          "data": {
            "application/javascript": [
              "download(\"download_03e8ed00-2bd0-4324-b85b-7ab0bb845b54\", \"vecs.tsv\", 1846430)"
            ],
            "text/plain": [
              "<IPython.core.display.Javascript object>"
            ]
          },
          "metadata": {
            "tags": []
          }
        },
        {
          "output_type": "display_data",
          "data": {
            "application/javascript": [
              "\n",
              "    async function download(id, filename, size) {\n",
              "      if (!google.colab.kernel.accessAllowed) {\n",
              "        return;\n",
              "      }\n",
              "      const div = document.createElement('div');\n",
              "      const label = document.createElement('label');\n",
              "      label.textContent = `Downloading \"${filename}\": `;\n",
              "      div.appendChild(label);\n",
              "      const progress = document.createElement('progress');\n",
              "      progress.max = size;\n",
              "      div.appendChild(progress);\n",
              "      document.body.appendChild(div);\n",
              "\n",
              "      const buffers = [];\n",
              "      let downloaded = 0;\n",
              "\n",
              "      const channel = await google.colab.kernel.comms.open(id);\n",
              "      // Send a message to notify the kernel that we're ready.\n",
              "      channel.send({})\n",
              "\n",
              "      for await (const message of channel.messages) {\n",
              "        // Send a message to notify the kernel that we're ready.\n",
              "        channel.send({})\n",
              "        if (message.buffers) {\n",
              "          for (const buffer of message.buffers) {\n",
              "            buffers.push(buffer);\n",
              "            downloaded += buffer.byteLength;\n",
              "            progress.value = downloaded;\n",
              "          }\n",
              "        }\n",
              "      }\n",
              "      const blob = new Blob(buffers, {type: 'application/binary'});\n",
              "      const a = document.createElement('a');\n",
              "      a.href = window.URL.createObjectURL(blob);\n",
              "      a.download = filename;\n",
              "      div.appendChild(a);\n",
              "      a.click();\n",
              "      div.remove();\n",
              "    }\n",
              "  "
            ],
            "text/plain": [
              "<IPython.core.display.Javascript object>"
            ]
          },
          "metadata": {
            "tags": []
          }
        },
        {
          "output_type": "display_data",
          "data": {
            "application/javascript": [
              "download(\"download_c7a5602e-8249-47a8-bf12-ffec5fe76b66\", \"meta.tsv\", 75977)"
            ],
            "text/plain": [
              "<IPython.core.display.Javascript object>"
            ]
          },
          "metadata": {
            "tags": []
          }
        }
      ]
    },
    {
      "cell_type": "code",
      "metadata": {
        "id": "7gZ9y_1uQo6G",
        "colab_type": "code",
        "colab": {
          "base_uri": "https://localhost:8080/",
          "height": 57
        },
        "outputId": "d110d0ec-a48d-4511-9e88-5c2727a5f7bf"
      },
      "source": [
        "#predict\n",
        "sentence=[\"granny starting to fear spiders in the garden might be real\", \"game of thrones season finale showing this sunday night\"]\n",
        "sequences=tokenizer.texts_to_sequences(sentence)\n",
        "padded = pad_sequences(sequences, maxlen=max_length, padding=padding_type, truncating=trunc_type)\n",
        "print(model.predict(padded))"
      ],
      "execution_count": 53,
      "outputs": [
        {
          "output_type": "stream",
          "text": [
            "[[8.0308491e-01]\n",
            " [1.3848467e-07]]\n"
          ],
          "name": "stdout"
        }
      ]
    }
  ]
}